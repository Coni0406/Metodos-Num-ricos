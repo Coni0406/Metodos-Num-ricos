{
 "cells": [
  {
   "cell_type": "code",
   "execution_count": 2,
   "id": "e7d751bd-3677-4236-98bf-9adf3cba5b03",
   "metadata": {},
   "outputs": [
    {
     "name": "stdout",
     "output_type": "stream",
     "text": [
      "Número de términos necesarios: 1000\n"
     ]
    }
   ],
   "source": [
    "import math\n",
    "\n",
    "# Tolerancia para el error deseado\n",
    "tolerance = 1e-3\n",
    "\n",
    "# Cálculo de pi aproximado mediante la serie de Maclaurin para arctan(1)\n",
    "def calculate_pi_approximation(tolerance):\n",
    "    pi_approximation = 0\n",
    "    n = 0\n",
    "    while abs(4 * pi_approximation - math.pi) >= tolerance:\n",
    "        n += 1\n",
    "        pi_approximation += (-1)**(n + 1) / (2 * n - 1)\n",
    "    return n\n",
    "\n",
    "# Determinar número de términos necesarios para alcanzar la tolerancia\n",
    "terms_required = calculate_pi_approximation(tolerance)\n",
    "print(\"Número de términos necesarios:\", terms_required)"
   ]
  },
  {
   "cell_type": "code",
   "execution_count": 4,
   "id": "24cc9182-f384-46fe-80db-8ab178bb7b8d",
   "metadata": {},
   "outputs": [
    {
     "name": "stdout",
     "output_type": "stream",
     "text": [
      "Número de términos necesarios para una precisión de 10^-10: None\n"
     ]
    }
   ],
   "source": [
    "import math\n",
    "\n",
    "# Definir la tolerancia de alta precisión\n",
    "tolerance_high_precision = 1e-10\n",
    "\n",
    "# Cálculo de pi aproximado mediante la serie de Maclaurin para arctan(1) con un límite de iteraciones\n",
    "def calculate_pi_approximation_optimized(tolerance, max_iterations=10_000_000):\n",
    "    pi_approximation = 0\n",
    "    for n in range(1, max_iterations + 1):\n",
    "        pi_approximation += (-1)**(n + 1) / (2 * n - 1)\n",
    "        if abs(4 * pi_approximation - math.pi) < tolerance:\n",
    "            return n\n",
    "    return None  # Si no alcanza la precisión en el número máximo de iteraciones\n",
    "\n",
    "# Determinar número de términos necesarios para la precisión de 10^-10\n",
    "terms_required_high_precision = calculate_pi_approximation_optimized(tolerance_high_precision, max_iterations=20_000_000)\n",
    "print(\"Número de términos necesarios para una precisión de 10^-10:\", terms_required_high_precision)"
   ]
  },
  {
   "cell_type": "code",
   "execution_count": 5,
   "id": "dc8ae54c-dfdd-4c42-ac76-25204adc7ea1",
   "metadata": {},
   "outputs": [
    {
     "data": {
      "text/plain": [
       "2"
      ]
     },
     "execution_count": 5,
     "metadata": {},
     "output_type": "execute_result"
    }
   ],
   "source": [
    "# Tolerancia para la precisión de 10^-3\n",
    "tolerance = 1e-3\n",
    "\n",
    "# Serie de Maclaurin para arctan(x)\n",
    "def arctan_approximation(x, n_terms):\n",
    "    approximation = 0\n",
    "    for i in range(1, n_terms + 1):\n",
    "        term = ((-1) ** (i + 1)) * (x ** (2 * i - 1)) / (2 * i - 1)\n",
    "        approximation += term\n",
    "    return approximation\n",
    "\n",
    "# Cálculo de pi usando la fórmula dada\n",
    "def calculate_pi_approximation(tolerance):\n",
    "    n = 1\n",
    "    while True:\n",
    "        arctan_1_5 = arctan_approximation(1/5, n)\n",
    "        arctan_1_239 = arctan_approximation(1/239, n)\n",
    "        pi_approximation = 4 * (4 * arctan_1_5 - arctan_1_239)\n",
    "        if abs(pi_approximation - math.pi) < tolerance:\n",
    "            return n\n",
    "        n += 1\n",
    "\n",
    "# Determinar el número de términos necesarios\n",
    "terms_required = calculate_pi_approximation(tolerance)\n",
    "terms_required"
   ]
  },
  {
   "cell_type": "code",
   "execution_count": 8,
   "id": "bfdc2e51-a5ff-4857-8fee-b2ade1396dee",
   "metadata": {},
   "outputs": [
    {
     "data": {
      "text/plain": [
       "(15, 15)"
      ]
     },
     "execution_count": 8,
     "metadata": {},
     "output_type": "execute_result"
    }
   ],
   "source": [
    "# Función para contar el número de multiplicaciones y sumas necesarias\n",
    "def contar_operaciones(n):\n",
    "    multiplicaciones = 0\n",
    "    sumas = 0\n",
    "    for i in range(1, n + 1):       # Itera sobre i desde 1 hasta n\n",
    "        for j in range(1, i + 1):    # Itera sobre j desde 1 hasta i\n",
    "            multiplicaciones += 1    # Cada par (i, j) requiere una multiplicación\n",
    "            sumas += 1               # Cada par (i, j) requiere una suma\n",
    "    return multiplicaciones, sumas\n",
    "\n",
    "# Ejemplo de uso con un valor de n dado\n",
    "n = 5  # Cambia este valor para probar con otros tamaños de n\n",
    "multiplicaciones, sumas = contar_operaciones(n)\n",
    "multiplicaciones, sumas"
   ]
  },
  {
   "cell_type": "code",
   "execution_count": 9,
   "id": "c01ccdf5-3255-474a-854d-6d8d15b78d9f",
   "metadata": {},
   "outputs": [
    {
     "data": {
      "text/plain": [
       "(5, 14)"
      ]
     },
     "execution_count": 9,
     "metadata": {},
     "output_type": "execute_result"
    }
   ],
   "source": [
    "# Función para contar operaciones en la expresión optimizada\n",
    "def contar_operaciones_optimizada(n):\n",
    "    multiplicaciones = 0\n",
    "    sumas = 0\n",
    "    suma_parcial_b = 0\n",
    "\n",
    "    for i in range(1, n + 1):\n",
    "        suma_parcial_b += 1  # Cada incremento de j en la suma interna implica una suma\n",
    "        sumas += i - 1       # Acumular todas las sumas de b_j en suma_parcial_b\n",
    "        multiplicaciones += 1 # Una multiplicación por cada a_i con la suma parcial de b_j\n",
    "    \n",
    "    return multiplicaciones, sumas + (n - 1)\n",
    "\n",
    "# Ejemplo de uso con el mismo valor de n\n",
    "multiplicaciones_optimizada, sumas_optimizada = contar_operaciones_optimizada(n)\n",
    "multiplicaciones_optimizada, sumas_optimizada"
   ]
  },
  {
   "cell_type": "code",
   "execution_count": null,
   "id": "ae48a714-949b-407f-9fcd-29ac3133402f",
   "metadata": {},
   "outputs": [],
   "source": []
  }
 ],
 "metadata": {
  "kernelspec": {
   "display_name": "Python 3 (ipykernel)",
   "language": "python",
   "name": "python3"
  },
  "language_info": {
   "codemirror_mode": {
    "name": "ipython",
    "version": 3
   },
   "file_extension": ".py",
   "mimetype": "text/x-python",
   "name": "python",
   "nbconvert_exporter": "python",
   "pygments_lexer": "ipython3",
   "version": "3.11.7"
  }
 },
 "nbformat": 4,
 "nbformat_minor": 5
}
